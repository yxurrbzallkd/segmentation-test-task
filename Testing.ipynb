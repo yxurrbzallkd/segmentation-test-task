{
 "cells": [
  {
   "cell_type": "code",
   "execution_count": 27,
   "id": "0d4062ab",
   "metadata": {},
   "outputs": [],
   "source": [
    "import matplotlib.pyplot as plt\n",
    "import tensorflow as tf\n",
    "from keras.models import load_model\n",
    "\n",
    "from module.dataset import DATASET_PATH, LABELS_PATH, TRAIN_PATH, TEST_PATH, csv_to_dict, AirbusDataset\n",
    "from module.dice import dice_loss, dice_coeff\n",
    "from module.transform import normalize_transform, normalize_rescale_blur"
   ]
  },
  {
   "cell_type": "code",
   "execution_count": 9,
   "id": "a2b48e03",
   "metadata": {},
   "outputs": [
    {
     "data": {
      "text/plain": [
       "'C:/Users/Diana/Documents/airbus-ship-detection/train_ship_segmentations_v2.csv'"
      ]
     },
     "execution_count": 9,
     "metadata": {},
     "output_type": "execute_result"
    }
   ],
   "source": [
    "csv_path = LABELS_PATH # path to the labels, provide your own \n",
    "csv_path"
   ]
  },
  {
   "cell_type": "code",
   "execution_count": 10,
   "id": "c1841d93",
   "metadata": {},
   "outputs": [
    {
     "data": {
      "text/plain": [
       "'C:/Users/Diana/Documents/airbus-ship-detection/train_v2'"
      ]
     },
     "execution_count": 10,
     "metadata": {},
     "output_type": "execute_result"
    }
   ],
   "source": [
    "img_dir = TRAIN_PATH # path to directory with images, provide your own\n",
    "img_dir"
   ]
  },
  {
   "cell_type": "code",
   "execution_count": 18,
   "id": "c9dca014",
   "metadata": {},
   "outputs": [],
   "source": [
    "model = load_model(\"./models/ModelS.h5\", custom_objects={\"dice_loss\":dice_loss})"
   ]
  },
  {
   "cell_type": "code",
   "execution_count": 14,
   "id": "1b08d845",
   "metadata": {},
   "outputs": [],
   "source": [
    "transform = normalize_rescale_blur #lambda images,masks: normalize_rescale_blur(images, masks, 256, 256)\n",
    "dataset = AirbusDataset(csv_path, img_dir, transform)"
   ]
  },
  {
   "cell_type": "code",
   "execution_count": 26,
   "id": "d29aeea4",
   "metadata": {},
   "outputs": [
    {
     "name": "stdout",
     "output_type": "stream",
     "text": [
      "dice_loss tf.Tensor(0.70872796, shape=(), dtype=float32)\n"
     ]
    }
   ],
   "source": [
    "batch = 100\n",
    "losses = []\n",
    "for i in range(0, len(dataset), batch): # evaluate on all data. provide your own indexes\n",
    "    images, masks = dataset[list(range(i,i+batch))].values()\n",
    "    prediction = model.predict(images)\n",
    "    losses.append(dice_loss(tf.constant(masks, tf.float32), prediction))\n",
    "print(\"dice_loss\", tf.math.reduce_mean(losses))"
   ]
  },
  {
   "cell_type": "code",
   "execution_count": null,
   "id": "37105f41",
   "metadata": {},
   "outputs": [],
   "source": []
  }
 ],
 "metadata": {
  "kernelspec": {
   "display_name": "Python 3 (ipykernel)",
   "language": "python",
   "name": "python3"
  },
  "language_info": {
   "codemirror_mode": {
    "name": "ipython",
    "version": 3
   },
   "file_extension": ".py",
   "mimetype": "text/x-python",
   "name": "python",
   "nbconvert_exporter": "python",
   "pygments_lexer": "ipython3",
   "version": "3.9.7"
  }
 },
 "nbformat": 4,
 "nbformat_minor": 5
}
